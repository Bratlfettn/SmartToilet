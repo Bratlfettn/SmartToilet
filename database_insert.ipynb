{
 "cells": [
  {
   "cell_type": "code",
   "execution_count": 5,
   "id": "60a3d43c",
   "metadata": {},
   "outputs": [],
   "source": [
    "import pandas as pd\n",
    "import mysql.connector\n",
    "from mysql.connector import Error"
   ]
  },
  {
   "cell_type": "code",
   "execution_count": 6,
   "id": "19fbade9",
   "metadata": {},
   "outputs": [],
   "source": [
    "\n",
    "# Database connection configuration\n",
    "db_config = {\n",
    "    'host': 'localhost',\n",
    "    'user': 'student',      # Replace with your MySQL username\n",
    "    'password': 'student',  # Replace with your MySQL password\n",
    "    'database': 'smart_toilet',\n",
    "    'auth_plugin': 'mysql_native_password'\n",
    "}"
   ]
  },
  {
   "cell_type": "code",
   "execution_count": 8,
   "id": "1884f72c",
   "metadata": {},
   "outputs": [
    {
     "name": "stdout",
     "output_type": "stream",
     "text": [
      "CSV loaded successfully.\n",
      "MySQL error: Authentication plugin 'caching_sha2_password' is not supported\n"
     ]
    },
    {
     "ename": "NameError",
     "evalue": "name 'conn' is not defined",
     "output_type": "error",
     "traceback": [
      "\u001b[31m---------------------------------------------------------------------------\u001b[39m",
      "\u001b[31mNameError\u001b[39m                                 Traceback (most recent call last)",
      "\u001b[36mCell\u001b[39m\u001b[36m \u001b[39m\u001b[32mIn[8]\u001b[39m\u001b[32m, line 41\u001b[39m\n\u001b[32m     39\u001b[39m     \u001b[38;5;28mprint\u001b[39m(\u001b[33mf\u001b[39m\u001b[33m\"\u001b[39m\u001b[33mMySQL error: \u001b[39m\u001b[38;5;132;01m{\u001b[39;00me\u001b[38;5;132;01m}\u001b[39;00m\u001b[33m\"\u001b[39m)\n\u001b[32m     40\u001b[39m \u001b[38;5;28;01mfinally\u001b[39;00m:\n\u001b[32m---> \u001b[39m\u001b[32m41\u001b[39m     \u001b[38;5;28;01mif\u001b[39;00m \u001b[43mconn\u001b[49m.is_connected():\n\u001b[32m     42\u001b[39m         cursor.close()\n\u001b[32m     43\u001b[39m         conn.close()\n",
      "\u001b[31mNameError\u001b[39m: name 'conn' is not defined"
     ]
    }
   ],
   "source": [
    "#Air Quality laden\n",
    "# CSV file path\n",
    "csv_file = \"sensor_data/csv/air_quality_readings.csv\"\n",
    "# CSV laden\n",
    "try:\n",
    "    df = pd.read_csv(csv_file)\n",
    "    print(\"CSV loaded successfully.\")\n",
    "except Exception as e:\n",
    "    print(f\"Error reading CSV: {e}\")\n",
    "    exit()\n",
    "\n",
    "# Verbindung zur Datenbank\n",
    "try:\n",
    "    conn = mysql.connector.connect(**db_config)\n",
    "    cursor = conn.cursor()\n",
    "    print(\"Connected to MySQL database.\")\n",
    "\n",
    "    # Insert Query\n",
    "    insert_query = \"\"\"\n",
    "    INSERT INTO air_quality_readings (sensor_id, timestamp, nh3, h2s, voc, no2, health_environment)\n",
    "    VALUES (%s, %s, %s, %s, %s, %s, %s)\n",
    "    \"\"\"\n",
    "\n",
    "    for _, row in df.iterrows():\n",
    "        cursor.execute(insert_query, (\n",
    "            row['sensor_id'],\n",
    "            row['timestamp'],\n",
    "            row['nh3'],\n",
    "            row['h2s'],\n",
    "            row['voc'],\n",
    "            row['no2'],\n",
    "            row['health_environment']\n",
    "        ))\n",
    "\n",
    "    conn.commit()\n",
    "    print(f\"Inserted {cursor.rowcount} records successfully.\")\n",
    "\n",
    "except Error as e:\n",
    "    print(f\"MySQL error: {e}\")\n",
    "finally:\n",
    "    if conn.is_connected():\n",
    "        cursor.close()\n",
    "        conn.close()\n",
    "        print(\"MySQL connection closed.\")"
   ]
  },
  {
   "cell_type": "code",
   "execution_count": 28,
   "id": "320970cb",
   "metadata": {},
   "outputs": [
    {
     "name": "stdout",
     "output_type": "stream",
     "text": [
      "CSV loaded successfully.\n",
      "Connected to MySQL database.\n"
     ]
    },
    {
     "name": "stdout",
     "output_type": "stream",
     "text": [
      "Inserted 1 records successfully.\n",
      "MySQL connection closed.\n"
     ]
    }
   ],
   "source": [
    "# Inserts motion detection data from a CSV file into a MySQL database.\n",
    "# CSV file path\n",
    "csv_file = \"sensor_data/csv/door_contact.csv\"\n",
    "\n",
    "# CSV laden\n",
    "try:\n",
    "    df = pd.read_csv(csv_file)\n",
    "    print(\"CSV loaded successfully.\")\n",
    "except Exception as e:\n",
    "    print(f\"Error reading CSV: {e}\")\n",
    "    exit()\n",
    "\n",
    "# Verbindung zur Datenbank\n",
    "try:\n",
    "    conn = mysql.connector.connect(**db_config)\n",
    "    cursor = conn.cursor()\n",
    "    print(\"Connected to MySQL database.\")\n",
    "\n",
    "    # Insert Query\n",
    "    insert_query = \"\"\"\n",
    "    INSERT INTO door_contact_readings (sensor_id, timestamp, door_closed, day_of_week)\n",
    "    VALUES (%s, %s, %s, %s)\n",
    "    \"\"\"\n",
    "\n",
    "    for _, row in df.iterrows():\n",
    "        cursor.execute(insert_query, (\n",
    "            row['sensor_id'],\n",
    "            row['timestamp'],\n",
    "            row['door_closed'],\n",
    "            row['day_of_week']\n",
    "        ))\n",
    "\n",
    "    conn.commit()\n",
    "    print(f\"Inserted {cursor.rowcount} records successfully.\")\n",
    "\n",
    "except Error as e:\n",
    "    print(f\"MySQL error: {e}\")\n",
    "finally:\n",
    "    if conn.is_connected():\n",
    "        cursor.close()\n",
    "        conn.close()\n",
    "        print(\"MySQL connection closed.\")\n",
    "\n"
   ]
  },
  {
   "cell_type": "code",
   "execution_count": 30,
   "id": "cdc7059a",
   "metadata": {},
   "outputs": [
    {
     "name": "stdout",
     "output_type": "stream",
     "text": [
      "CSV loaded successfully.\n",
      "Connected to MySQL database.\n",
      "Inserted 1 records successfully.\n",
      "MySQL connection closed.\n"
     ]
    }
   ],
   "source": [
    "# Inserts air quality readings data from a CSV file into a MySQL database.\n",
    "\n",
    "# CSV file path\n",
    "csv_file = \"sensor_data/csv/light_sensor.csv\"\n",
    "\n",
    "# CSV laden\n",
    "try:\n",
    "    df = pd.read_csv(csv_file)\n",
    "    print(\"CSV loaded successfully.\")\n",
    "except Exception as e:\n",
    "    print(f\"Error reading CSV: {e}\")\n",
    "    exit()\n",
    "\n",
    "# Verbindung zur Datenbank\n",
    "try:\n",
    "    conn = mysql.connector.connect(**db_config)\n",
    "    cursor = conn.cursor()\n",
    "    print(\"Connected to MySQL database.\")\n",
    "\n",
    "    # Insert Query\n",
    "    insert_query = \"\"\"\n",
    "    INSERT INTO light_sensor_readings (sensor_id, timestamp, light_level_lux, day_of_week)\n",
    "    VALUES (%s, %s, %s, %s)\n",
    "    \"\"\"\n",
    "\n",
    "    for _, row in df.iterrows():\n",
    "        cursor.execute(insert_query, (\n",
    "            row['sensor_id'],\n",
    "            row['timestamp'],\n",
    "            row['light_level_lux'],\n",
    "            row['day_of_week']\n",
    "        ))\n",
    "\n",
    "    conn.commit()\n",
    "    print(f\"Inserted {cursor.rowcount} records successfully.\")\n",
    "\n",
    "except Error as e:\n",
    "    print(f\"MySQL error: {e}\")\n",
    "finally:\n",
    "    if conn.is_connected():\n",
    "        cursor.close()\n",
    "        conn.close()\n",
    "        print(\"MySQL connection closed.\")\n",
    "\n"
   ]
  }
 ],
 "metadata": {
  "kernelspec": {
   "display_name": "smart_toilet_env",
   "language": "python",
   "name": "python3"
  },
  "language_info": {
   "codemirror_mode": {
    "name": "ipython",
    "version": 3
   },
   "file_extension": ".py",
   "mimetype": "text/x-python",
   "name": "python",
   "nbconvert_exporter": "python",
   "pygments_lexer": "ipython3",
   "version": "3.13.2"
  }
 },
 "nbformat": 4,
 "nbformat_minor": 5
}
