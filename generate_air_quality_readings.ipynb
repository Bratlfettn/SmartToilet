{
 "cells": [
  {
   "cell_type": "code",
   "execution_count": 46,
   "id": "b768b19f",
   "metadata": {},
   "outputs": [],
   "source": [
    "import os\n",
    "import random\n",
    "import time\n",
    "from datetime import datetime\n",
    "import csv\n",
    "import pandas as pd\n",
    "from sklearn.linear_model import LinearRegression\n",
    "\n",
    "# Create output directory\n",
    "output_dir = \"sensor_data/csv\"\n",
    "os.makedirs(output_dir, exist_ok=True)\n"
   ]
  },
  {
   "cell_type": "code",
   "execution_count": 47,
   "id": "9366ab6e",
   "metadata": {},
   "outputs": [],
   "source": [
    "def classify_health_environment(voc, nh3, h2s, no2):\n",
    "    score = 0\n",
    "      # NH₃ (Ammoniak) – z.b Uringeruch\n",
    "    if nh3 is not None and nh3 > 5:\n",
    "        score += 1\n",
    "    # H₂S (Schwefelwasserstoff) – stinkendes Gas\n",
    "    if h2s is not None and h2s > 0.005:\n",
    "        score += 0\n",
    "    # VOC (flüchtige organische Verbindungen) – allgemeine Geruchsquelle\n",
    "    if voc is not None and voc > 450:\n",
    "        score += 0\n",
    "    # NO₂ (Stickstoffdioxid) – Schlechte Belüftung\n",
    "    if no2 is not None and no2 > 250:     #300 Kommt nie vor, no2 hat kein geruch, lasse es dennoch drinnen für was anderes\n",
    "        score += 0\n",
    "\n",
    "    if score == 0:\n",
    "        return \"Fresh\"\n",
    "    elif score == 1:\n",
    "        return \"Noticeable\"\n",
    "    else:\n",
    "        return \"Stinky\""
   ]
  },
  {
   "cell_type": "code",
   "execution_count": 48,
   "id": "7b6ce106",
   "metadata": {},
   "outputs": [],
   "source": [
    "# Function to generate random air quality data\n",
    "def generate_air_quality_data(sensor_id=3):\n",
    "    nh3 = round(random.uniform(0, 10), 2)\n",
    "    h2s = round(random.uniform(0, 0.01), 4)\n",
    "    voc = round(random.uniform(50, 600), 2)\n",
    "    no2 = round(random.uniform(0, 300), 2) if random.random() > 0.2 else None   #damit ein Wert mal fehlt \n",
    "\n",
    "    health_environment = classify_health_environment(nh3, h2s, voc, no2)\n",
    "\n",
    "    return {\n",
    "        \"sensor_id\": sensor_id,\n",
    "        \"timestamp\": datetime.now().isoformat(),\n",
    "        \"nh3\": nh3,\n",
    "        \"h2s\": h2s,\n",
    "        \"voc\": voc,\n",
    "        \"no2\": no2,\n",
    "        \"health_environment\": health_environment.lower()\n",
    "    }"
   ]
  },
  {
   "cell_type": "code",
   "execution_count": 49,
   "id": "c8b670ee",
   "metadata": {},
   "outputs": [],
   "source": [
    "# Impute only no2 values using mean, median, mode or regression\n",
    "def impute_missing_values(df, strategy='mean'):\n",
    "    if strategy == 'mean':\n",
    "        df['no2'] = df['no2'].fillna(df['no2'].mean()).round(2)\n",
    "    elif strategy == 'median':\n",
    "         df['no2'] = df['no2'].fillna(df['no2'].median()).round(2)\n",
    "    elif strategy == 'mode':\n",
    "        df['no2'] = df['no2'].fillna(df['no2'].mode()).round(2)\n",
    "    #elif strategy == 'regression':             Haben keinen direkten Zusammenhang zwischen den Werten weshalb des net funktioniert\n",
    "        # Only impute no2 values using so2 as predictor\n",
    "    #    hum_train = df.dropna(subset=['no2'])\n",
    "    #    model = LinearRegression()\n",
    "    #    model.fit(hum_train[['so2']], hum_train['no2'])\n",
    "    #    hum_missing = df[df['no2'].isnull()]\n",
    "    #    df.loc[df['no2'].isnull(), 'no2'] = model.predict(hum_missing[['so2']]).round(2)\n",
    "    return df"
   ]
  },
  {
   "cell_type": "markdown",
   "id": "ae8bd3fd",
   "metadata": {},
   "source": [
    "Daten in CSV Speichern"
   ]
  },
  {
   "cell_type": "code",
   "execution_count": null,
   "id": "8abbee10",
   "metadata": {},
   "outputs": [
    {
     "name": "stdout",
     "output_type": "stream",
     "text": [
      "{'sensor_id': 3, 'timestamp': '2025-06-02T11:58:44.222903', 'nh3': 0.59, 'h2s': 0.0015, 'voc': 244.54, 'no2': 43.03, 'health_environment': 'fresh'}\n",
      "{'sensor_id': 3, 'timestamp': '2025-06-02T11:58:44.224856', 'nh3': 2.48, 'h2s': 0.0045, 'voc': 479.2, 'no2': 188.52, 'health_environment': 'fresh'}\n",
      "{'sensor_id': 3, 'timestamp': '2025-06-02T11:58:44.226614', 'nh3': 7.99, 'h2s': 0.0034, 'voc': 159.96, 'no2': 256.38, 'health_environment': 'fresh'}\n",
      "{'sensor_id': 3, 'timestamp': '2025-06-02T11:58:44.228322', 'nh3': 6.61, 'h2s': 0.0093, 'voc': 271.57, 'no2': 147.97, 'health_environment': 'fresh'}\n",
      "{'sensor_id': 3, 'timestamp': '2025-06-02T11:58:44.228322', 'nh3': 6.61, 'h2s': 0.0093, 'voc': 271.57, 'no2': 147.97, 'health_environment': 'fresh'}\n",
      "{'sensor_id': 3, 'timestamp': '2025-06-02T11:58:44.230137', 'nh3': 7.0, 'h2s': 0.0033, 'voc': 510.12, 'no2': 282.9, 'health_environment': 'fresh'}\n",
      "{'sensor_id': 3, 'timestamp': '2025-06-02T11:58:44.231775', 'nh3': 9.83, 'h2s': 0.0018, 'voc': 556.88, 'no2': None, 'health_environment': 'fresh'}\n",
      "{'sensor_id': 3, 'timestamp': '2025-06-02T11:58:44.233454', 'nh3': 7.75, 'h2s': 0.006, 'voc': 560.02, 'no2': 56.28, 'health_environment': 'fresh'}\n",
      "{'sensor_id': 3, 'timestamp': '2025-06-02T11:58:44.233454', 'nh3': 7.75, 'h2s': 0.006, 'voc': 560.02, 'no2': 56.28, 'health_environment': 'fresh'}\n",
      "{'sensor_id': 3, 'timestamp': '2025-06-02T11:58:44.235293', 'nh3': 3.97, 'h2s': 0.0023, 'voc': 264.01, 'no2': 99.79, 'health_environment': 'fresh'}\n",
      "Saved Air Quality CSV: sensor_data/csv\\air_quality_readings_errors.csv\n"
     ]
    }
   ],
   "source": [
    "# Function to save data as CSV\n",
    "def save_air_quality_csv(filename, data):\n",
    "    if not data:\n",
    "        return\n",
    "    filepath = os.path.join(output_dir, filename)\n",
    "    with open(filepath, mode=\"w\", newline=\"\", encoding=\"utf-8\") as file:\n",
    "        writer = csv.DictWriter(file, fieldnames=data[0].keys())\n",
    "        writer.writeheader()\n",
    "        writer.writerows(data)\n",
    "\n",
    "    print(f\"Saved Air Quality CSV: {filepath}\")\n",
    "\n",
    "# User input for number of times to run\n",
    "num_iterations = int(input(\"Enter number of air quality readings to generate: \"))\n",
    "\n",
    "# Generate multiple batches of air quality data\n",
    "readings = []\n",
    "for i in range(num_iterations):\n",
    "    air_quality_data = generate_air_quality_data()\n",
    "    print(air_quality_data)\n",
    "    readings.append(air_quality_data)\n",
    "    time.sleep(1)  # Simulate real-time data generation\n",
    "\n",
    "    # Add a duplicate at every 3rd reading\n",
    "    if i % 3 == 0 and i != 0:\n",
    "        readings.append(air_quality_data)\n",
    "        print(air_quality_data)\n",
    "\n",
    "# Create DataFrame\n",
    "df = pd.DataFrame(readings)\n",
    "\n",
    "# Save raw data (with duplicates)\n",
    "save_air_quality_csv(\"air_quality_readings_errors.csv\", df.to_dict(orient='records'))"
   ]
  },
  {
   "cell_type": "markdown",
   "id": "26dda8e0",
   "metadata": {},
   "source": [
    "Doppelte Werte entfernen und Fehlende Ergänzen:"
   ]
  },
  {
   "cell_type": "code",
   "execution_count": 51,
   "id": "732b2d2f",
   "metadata": {},
   "outputs": [
    {
     "name": "stdout",
     "output_type": "stream",
     "text": [
      "Saved Air Quality CSV: sensor_data/csv\\air_quality_readings.csv\n"
     ]
    }
   ],
   "source": [
    "# Remove duplicated rows\n",
    "df = df.drop_duplicates()\n",
    "\n",
    "# Impute missing no2 values \n",
    "df = impute_missing_values(df, strategy=\"mean\")  #besser, aber anfälliger für ausreißer\n",
    "\n",
    "# Save cleaned data (without duplicates)\n",
    "save_air_quality_csv(\"air_quality_readings.csv\", df.to_dict(orient='records'))\n",
    "\n",
    "#df.to_csv(\"sensor_data/csv/air_quality_reading.csv\", index=False)"
   ]
  }
 ],
 "metadata": {
  "kernelspec": {
   "display_name": ".venv",
   "language": "python",
   "name": "python3"
  },
  "language_info": {
   "codemirror_mode": {
    "name": "ipython",
    "version": 3
   },
   "file_extension": ".py",
   "mimetype": "text/x-python",
   "name": "python",
   "nbconvert_exporter": "python",
   "pygments_lexer": "ipython3",
   "version": "3.13.2"
  }
 },
 "nbformat": 4,
 "nbformat_minor": 5
}
